{
  "nbformat": 4,
  "nbformat_minor": 0,
  "metadata": {
    "colab": {
      "provenance": [],
      "authorship_tag": "ABX9TyOC1BnU5KXWU5YZpXgcV4b1",
      "include_colab_link": true
    },
    "kernelspec": {
      "name": "python3",
      "display_name": "Python 3"
    },
    "language_info": {
      "name": "python"
    }
  },
  "cells": [
    {
      "cell_type": "markdown",
      "metadata": {
        "id": "view-in-github",
        "colab_type": "text"
      },
      "source": [
        "<a href=\"https://colab.research.google.com/github/Ercampa2/Aulas_Inteligencia_Artificial/blob/main/TDE_4.ipynb\" target=\"_parent\"><img src=\"https://colab.research.google.com/assets/colab-badge.svg\" alt=\"Open In Colab\"/></a>"
      ]
    },
    {
      "cell_type": "code",
      "execution_count": 51,
      "metadata": {
        "id": "0l3ct4uv6InU"
      },
      "outputs": [],
      "source": [
        "# Carrega as bibliotecas do classificador\n",
        "import numpy as np\n",
        "from sklearn.svm import SVC\n",
        "from sklearn.model_selection import train_test_split\n",
        "from sklearn.metrics import accuracy_score\n",
        "from sklearn import datasets\n",
        "import random\n",
        "\n",
        "\n",
        "# Carrega o conjunto de dados com diagnósticos de câncer de mama\n",
        "cancer = datasets.load_breast_cancer()\n",
        "\n",
        "# Separa os atributos descritivos do atributo que descreve as classes do problema\n",
        "X = cancer.data # Conjunto de 30 atributos extraídos a partir de imagens da massa mamária \n",
        "y = cancer.target # Classe (2 classes, 0 = maligno, 1 = benigno)\n",
        "\n",
        "# Divisão dos dados em treino (70%) e teste (30%)\n",
        "# Os dados de treino são utilizados para construir um classifcador automático\n",
        "# Os dados de teste são utilizados para avaliar o desempenho do classificador\n",
        "X_train, X_test, y_train, y_test = train_test_split(X, y, test_size=0.3, random_state=1, stratify = y)\n",
        "\n",
        "# Treinamento de um classificador SVM com Kernel Polynomial\n",
        "# Valor padrão para os parâmetros C e degree\n",
        "#svm = SVC(kernel='poly', C=0.01, degree=1)\n",
        "#svm.fit(X_train, y_train)\n",
        "\n",
        "# Predição dos exemplos de teste\n",
        "#y_pred = svm.predict(X_test)\n",
        "\n",
        "# Cálculo da acurácia de classificação do modelo aplicado aos dados de teste\n",
        "#acc = accuracy_score(y_test, y_pred)\n",
        "#print(f'Acurácia de classificação = {acc}')\n",
        "\n",
        "\n",
        "# FUNÇÃO QUE DEVERÁ SEM IMPLEMENTADA\n",
        "# Deverá ser retornado:\n",
        "# - Melhor valor encontrado para o parâmetro C (best_C)\n",
        "# - Melhor valor encontrado para o parâmetro degree (best_degree)\n",
        "# - Acurácia de classificação obtida pelo SVM utilizando best_C e best_degree\n",
        "def random_restart_hill_climbing(num_restarts):\n",
        "  #Geração de 500 valores reais dentro do range 0.5:250\n",
        "  C = np.linspace(0.5, 250, num=500)\n",
        "  degree = range(0,16)\n",
        "\n",
        "  # Implementação do método de busca local para encontrar a melhor combinação de valores \n",
        "  # para os parâmetros C (best_C) e degree (best_degree)\n",
        "\n",
        "  accuracy = 0\n",
        "  best_C = None\n",
        "  best_degree = None\n",
        "\n",
        "  while num_restarts > 0:\n",
        "    index_c = random.randint(0, len(C)-1)\n",
        "    index_degree = random.randint(0, len(degree)-1)\n",
        "    \n",
        "    local_max = hill_climbing(C, degree, index_c, index_degree)\n",
        "\n",
        "    if local_max[0] > accuracy:\n",
        "      accuracy = local_max[0]\n",
        "      best_C = local_max[1]\n",
        "      best_degree = local_max[2]\n",
        "    \n",
        "\n",
        "\n",
        "    num_restarts -= 1\n",
        "  \n",
        "  return C[best_C], degree[best_degree], accuracy"
      ]
    },
    {
      "cell_type": "code",
      "source": [
        "def hill_climbing(c, degree, index_c, index_degree):\n",
        "  \n",
        "  data = []\n",
        "\n",
        "  initial = get_acc(c[index_c], degree[index_degree])\n",
        "\n",
        "  for i in range(-1, 2, 1):\n",
        "    if (index_c == 0 and i == -1) or (index_c == 499 and i == 1):\n",
        "      continue\n",
        "    for j in range(-1, 2, 1):\n",
        "      if (i == 0 and j == 0) or (index_degree == 0 and j == -1)  or (index_degree == 15 and j == 1):\n",
        "        continue\n",
        "\n",
        "      #print(f\" c: {index_c}, i: {i}, degree: {index_degree}, j: {j}\")\n",
        "      data.append((get_acc(c[index_c + i], degree[index_degree + j]), index_c + i, index_degree + j))\n",
        "\n",
        "  maximum = max(data, key=lambda x: x[0])\n",
        "\n",
        "  if maximum [0] <= initial:\n",
        "    return maximum\n",
        "\n",
        "  return hill_climbing(c, degree, maximum[1], maximum[2])"
      ],
      "metadata": {
        "id": "L5IuEhlv_YCI"
      },
      "execution_count": 53,
      "outputs": []
    },
    {
      "cell_type": "code",
      "source": [
        "def get_acc(c, degree):\n",
        "  svm = SVC(kernel='poly', C=c, degree=degree)\n",
        "  svm.fit(X_train, y_train)\n",
        "  y_pred = svm.predict(X_test)\n",
        "  return accuracy_score(y_test, y_pred)"
      ],
      "metadata": {
        "id": "sJCcAJCqA1mz"
      },
      "execution_count": 40,
      "outputs": []
    },
    {
      "cell_type": "code",
      "source": [
        "random_restart_hill_climbing(500)"
      ],
      "metadata": {
        "colab": {
          "base_uri": "https://localhost:8080/"
        },
        "id": "NlXSKEGG_XTM",
        "outputId": "89364ea3-655a-40a1-9787-4a3c9a5c6331"
      },
      "execution_count": 59,
      "outputs": [
        {
          "output_type": "execute_result",
          "data": {
            "text/plain": [
              "(229.5, 1, 0.9473684210526315)"
            ]
          },
          "metadata": {},
          "execution_count": 59
        }
      ]
    }
  ]
}