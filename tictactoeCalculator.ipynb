{
  "nbformat": 4,
  "nbformat_minor": 0,
  "metadata": {
    "colab": {
      "provenance": [],
      "authorship_tag": "ABX9TyOyawUfZJFhrwLT4I9LPQ5+",
      "include_colab_link": true
    },
    "kernelspec": {
      "name": "python3",
      "display_name": "Python 3"
    },
    "language_info": {
      "name": "python"
    }
  },
  "cells": [
    {
      "cell_type": "markdown",
      "metadata": {
        "id": "view-in-github",
        "colab_type": "text"
      },
      "source": [
        "<a href=\"https://colab.research.google.com/github/Ercampa2/Aulas_Inteligencia_Artificial/blob/main/tictactoeCalculator.ipynb\" target=\"_parent\"><img src=\"https://colab.research.google.com/assets/colab-badge.svg\" alt=\"Open In Colab\"/></a>"
      ]
    },
    {
      "cell_type": "code",
      "execution_count": 2,
      "metadata": {
        "id": "Nh-FW_Jc_Uw6"
      },
      "outputs": [],
      "source": [
        "import numpy as np"
      ]
    },
    {
      "cell_type": "code",
      "source": [
        "def evaluate_board(board, player):\n",
        "  count = 0\n",
        "\n",
        "  if(player == 1):\n",
        "    enemy = 2\n",
        "  else:\n",
        "    enemy = 1\n",
        "\n",
        "  for x in board:\n",
        "    if enemy not in board[x]:\n",
        "      count += 1\n",
        "\n",
        "  for y in range(len(board)):\n",
        "    print(board[:,y])\n",
        "    if enemy not in board[:,y]:\n",
        "      count += 1\n",
        "\n",
        "  \n",
        "\n",
        "  \n",
        "  \n"
      ],
      "metadata": {
        "id": "mePsWTV3BtS2"
      },
      "execution_count": 14,
      "outputs": []
    },
    {
      "cell_type": "code",
      "source": [
        "def random_board():\n",
        "  return np.random.randint(3, size=(3,3))"
      ],
      "metadata": {
        "id": "WMl3qK4vATVW"
      },
      "execution_count": 12,
      "outputs": []
    },
    {
      "cell_type": "code",
      "source": [
        "board = random_board()\n",
        "print(board)\n",
        "evaluate_board(board,1)"
      ],
      "metadata": {
        "colab": {
          "base_uri": "https://localhost:8080/"
        },
        "id": "mQ6ma0ql_y7X",
        "outputId": "1555d90e-8a3d-4373-f21b-e11d11eb30a5"
      },
      "execution_count": 15,
      "outputs": [
        {
          "output_type": "stream",
          "name": "stdout",
          "text": [
            "[[2 1 2]\n",
            " [0 2 0]\n",
            " [0 2 2]]\n",
            "[2 0 0]\n",
            "[1 2 2]\n",
            "[2 0 2]\n"
          ]
        }
      ]
    }
  ]
}