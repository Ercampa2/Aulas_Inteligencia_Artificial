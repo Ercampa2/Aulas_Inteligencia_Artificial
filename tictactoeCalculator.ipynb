{
  "nbformat": 4,
  "nbformat_minor": 0,
  "metadata": {
    "colab": {
      "provenance": [],
      "authorship_tag": "ABX9TyNRBdmzkUmbSTcCN4pJQs6m",
      "include_colab_link": true
    },
    "kernelspec": {
      "name": "python3",
      "display_name": "Python 3"
    },
    "language_info": {
      "name": "python"
    }
  },
  "cells": [
    {
      "cell_type": "markdown",
      "metadata": {
        "id": "view-in-github",
        "colab_type": "text"
      },
      "source": [
        "<a href=\"https://colab.research.google.com/github/Ercampa2/Aulas_Inteligencia_Artificial/blob/main/tictactoeCalculator.ipynb\" target=\"_parent\"><img src=\"https://colab.research.google.com/assets/colab-badge.svg\" alt=\"Open In Colab\"/></a>"
      ]
    },
    {
      "cell_type": "code",
      "execution_count": 13,
      "metadata": {
        "id": "Nh-FW_Jc_Uw6"
      },
      "outputs": [],
      "source": [
        "import numpy as np\n",
        "import time"
      ]
    },
    {
      "cell_type": "code",
      "source": [
        "def evaluate_board(board, player):\n",
        "  count = 0\n",
        "\n",
        "  if(player == 1):\n",
        "    enemy = 2\n",
        "  else:\n",
        "    enemy = 1\n",
        "\n",
        "  for x in board:\n",
        "    if enemy not in board[x]:\n",
        "      count += 1\n",
        "\n",
        "  for y in range(3):\n",
        "    if enemy not in board[:,y]:\n",
        "      count += 1\n",
        "\n",
        "  if enemy in [board[0,0],board[1,1],board[2,2]]:\n",
        "    count += 1\n",
        "\n",
        "  if enemy in [board[0,2],board[1,1],board[2,0]]:\n",
        "    count += 1\n",
        "\n",
        "  return count\n",
        "\n",
        "  \n",
        "  \n"
      ],
      "metadata": {
        "id": "mePsWTV3BtS2"
      },
      "execution_count": 26,
      "outputs": []
    },
    {
      "cell_type": "code",
      "source": [
        "def random_board():\n",
        "  return np.random.randint(3, size=(3,3))"
      ],
      "metadata": {
        "id": "WMl3qK4vATVW"
      },
      "execution_count": 3,
      "outputs": []
    },
    {
      "cell_type": "code",
      "source": [
        "board = random_board()\n",
        "\n",
        "print(evaluate_board(board,1))"
      ],
      "metadata": {
        "colab": {
          "base_uri": "https://localhost:8080/"
        },
        "id": "mQ6ma0ql_y7X",
        "outputId": "638e8c3b-4e69-4308-ee46-9b18665e191a"
      },
      "execution_count": 10,
      "outputs": [
        {
          "output_type": "stream",
          "name": "stdout",
          "text": [
            "--\n",
            "[2 0 1]\n",
            "--\n",
            "[1 2 1]\n",
            "--\n",
            "[0 1 0]\n",
            "None\n"
          ]
        }
      ]
    },
    {
      "cell_type": "code",
      "source": [
        "def board_evaluator(board, max_timer):\n",
        "  count = 0\n",
        "  elapsed_time = 0\n",
        "  start_timer = time.time()\n",
        "  while elapsed_time < max_timer:\n",
        "    eval = evaluate_board(board, 1)\n",
        "    count += 1\n",
        "    elapsed_time = time.time() - start_timer\n",
        "\n",
        "  return count\n",
        "\n",
        "  "
      ],
      "metadata": {
        "id": "oxeb6O5pFgHJ"
      },
      "execution_count": 31,
      "outputs": []
    },
    {
      "cell_type": "code",
      "source": [
        "board = random_board()\n",
        "board_evaluator(board, 2)"
      ],
      "metadata": {
        "colab": {
          "base_uri": "https://localhost:8080/"
        },
        "id": "yD3TeGLYHJ9o",
        "outputId": "58150b9d-c9a7-491a-b28b-fc5e8dba12eb"
      },
      "execution_count": 30,
      "outputs": [
        {
          "output_type": "execute_result",
          "data": {
            "text/plain": [
              "53646"
            ]
          },
          "metadata": {},
          "execution_count": 30
        }
      ]
    }
  ]
}