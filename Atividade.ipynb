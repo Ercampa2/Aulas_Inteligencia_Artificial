{
  "nbformat": 4,
  "nbformat_minor": 0,
  "metadata": {
    "colab": {
      "provenance": [],
      "authorship_tag": "ABX9TyMrU5pfpGYgv1is09cnITfj",
      "include_colab_link": true
    },
    "kernelspec": {
      "name": "python3",
      "display_name": "Python 3"
    },
    "language_info": {
      "name": "python"
    }
  },
  "cells": [
    {
      "cell_type": "markdown",
      "metadata": {
        "id": "view-in-github",
        "colab_type": "text"
      },
      "source": [
        "<a href=\"https://colab.research.google.com/github/Ercampa2/Aulas_Inteligencia_Artificial/blob/main/Atividade.ipynb\" target=\"_parent\"><img src=\"https://colab.research.google.com/assets/colab-badge.svg\" alt=\"Open In Colab\"/></a>"
      ]
    },
    {
      "cell_type": "code",
      "execution_count": 6,
      "metadata": {
        "id": "2H2F8Mz65pxu"
      },
      "outputs": [],
      "source": [
        "from sklearn.ensemble import BaggingClassifier\n",
        "from sklearn.datasets import make_classification\n",
        "from sklearn.tree import DecisionTreeClassifier\n",
        "import matplotlib.pyplot as plt\n",
        "from sklearn.decomposition import PCA\n",
        "import numpy as np\n",
        "from sklearn.metrics import accuracy_score, classification_report\n",
        "from sklearn.metrics import confusion_matrix,ConfusionMatrixDisplay\n",
        "from sklearn.model_selection import train_test_split\n",
        "from sklearn.ensemble import RandomForestClassifier"
      ]
    },
    {
      "cell_type": "code",
      "source": [
        "class_weights = [0.5,0.25,0.15]\n",
        "X, y = make_classification(n_samples=3000, n_classes=3, n_features=50, n_informative=25, n_redundant=10, \n",
        "                           n_clusters_per_class=1, class_sep=1.2, weights = class_weights, random_state=12)\n",
        "\n",
        "\n",
        "\n",
        "X_train, X_test, y_train, y_test = train_test_split(X, y, test_size=0.2, random_state=42)"
      ],
      "metadata": {
        "id": "wbT-Olyl5tnt"
      },
      "execution_count": 3,
      "outputs": []
    },
    {
      "cell_type": "code",
      "source": [
        "dt = DecisionTreeClassifier(max_depth=5)\n",
        "dt.fit(X_train,y_train)\n",
        "y_pred = dt.predict(X_test)\n",
        "\n",
        "bagging_df = BaggingClassifier(estimator= dt,\n",
        "                        n_estimators=50, random_state=0,\n",
        "                        max_features=0.7,bootstrap_features=True,                        \n",
        "                        max_samples=0.7,bootstrap=True)\n",
        "\n",
        "bagging_df.fit(X_train,y_train)\n",
        "y_pred = bagging_df.predict(X_test)\n",
        "\n",
        "print(classification_report(y_test,y_pred))"
      ],
      "metadata": {
        "colab": {
          "base_uri": "https://localhost:8080/"
        },
        "id": "pWcHKITL5sVR",
        "outputId": "3403227a-9dad-4e25-acdb-433fa66d2747"
      },
      "execution_count": 4,
      "outputs": [
        {
          "output_type": "stream",
          "name": "stdout",
          "text": [
            "              precision    recall  f1-score   support\n",
            "\n",
            "           0       0.81      0.98      0.89       329\n",
            "           1       0.91      0.74      0.82       168\n",
            "           2       0.95      0.59      0.73       103\n",
            "\n",
            "    accuracy                           0.85       600\n",
            "   macro avg       0.89      0.77      0.81       600\n",
            "weighted avg       0.86      0.85      0.84       600\n",
            "\n"
          ]
        }
      ]
    },
    {
      "cell_type": "code",
      "source": [
        "rf = RandomForestClassifier(max_depth=5)\n",
        "rf.fit(X_train,y_train)\n",
        "y_pred = rf.predict(X_test)\n",
        "\n",
        "bagging_rf = BaggingClassifier(estimator= dt,\n",
        "                        n_estimators=50, random_state=0,\n",
        "                        max_features=0.7,bootstrap_features=True,                        \n",
        "                        max_samples=0.7,bootstrap=True)\n",
        "\n",
        "bagging_rf.fit(X_train,y_train)\n",
        "y_pred = bagging_rf.predict(X_test)\n",
        "\n",
        "print(classification_report(y_test,y_pred))"
      ],
      "metadata": {
        "colab": {
          "base_uri": "https://localhost:8080/"
        },
        "id": "AGfn6RY26rLk",
        "outputId": "20efc0f4-f738-4ad6-af54-8c8d52e10184"
      },
      "execution_count": 7,
      "outputs": [
        {
          "output_type": "stream",
          "name": "stdout",
          "text": [
            "              precision    recall  f1-score   support\n",
            "\n",
            "           0       0.81      0.98      0.89       329\n",
            "           1       0.91      0.74      0.82       168\n",
            "           2       0.95      0.59      0.73       103\n",
            "\n",
            "    accuracy                           0.85       600\n",
            "   macro avg       0.89      0.77      0.81       600\n",
            "weighted avg       0.86      0.85      0.84       600\n",
            "\n"
          ]
        }
      ]
    }
  ]
}