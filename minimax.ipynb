{
  "nbformat": 4,
  "nbformat_minor": 0,
  "metadata": {
    "colab": {
      "provenance": [],
      "authorship_tag": "ABX9TyPaKUTgbmYSeDgnejia8iMT",
      "include_colab_link": true
    },
    "kernelspec": {
      "name": "python3",
      "display_name": "Python 3"
    },
    "language_info": {
      "name": "python"
    }
  },
  "cells": [
    {
      "cell_type": "markdown",
      "metadata": {
        "id": "view-in-github",
        "colab_type": "text"
      },
      "source": [
        "<a href=\"https://colab.research.google.com/github/Ercampa2/Aulas_Inteligencia_Artificial/blob/main/minimax.ipynb\" target=\"_parent\"><img src=\"https://colab.research.google.com/assets/colab-badge.svg\" alt=\"Open In Colab\"/></a>"
      ]
    },
    {
      "cell_type": "code",
      "source": [
        "import numpy as np"
      ],
      "metadata": {
        "id": "uBwd-uFK_YlU"
      },
      "execution_count": 6,
      "outputs": []
    },
    {
      "cell_type": "code",
      "execution_count": 11,
      "metadata": {
        "id": "WaaYGYc2ouIY"
      },
      "outputs": [],
      "source": [
        "class Node:\n",
        "  def __init__(self, utility = None):\n",
        "    self.utility = utility\n",
        "    self.children = []\n",
        "\n",
        "  def addChild(self, node):\n",
        "    self.children.append(node)\n",
        "\n",
        "  def isTerminal(self):\n",
        "    return len(self.children) == 0\n",
        "\n",
        "  def getChildren(self):\n",
        "    return self.children\n",
        "\n",
        "  def getUtility(self):\n",
        "    return self.utility"
      ]
    },
    {
      "cell_type": "code",
      "source": [
        "def minimax(node, depth = 1):\n",
        "  isMax = depth % 2 == 1\n",
        "\n",
        "  if node.isTerminal():\n",
        "    return node.getUtility()\n",
        "  \n",
        "  if isMax:\n",
        "    return max_value(node, depth)\n",
        "  \n",
        "  return min_value(node, depth)"
      ],
      "metadata": {
        "id": "uO2Bro9sBQ-v"
      },
      "execution_count": 7,
      "outputs": []
    },
    {
      "cell_type": "code",
      "source": [
        "def min_value(node, depth):\n",
        "  value = np.Inf\n",
        "  for successor in node.getChildren():\n",
        "    value = min(value, minimax(successor, depth + 1))\n",
        "  return value"
      ],
      "metadata": {
        "id": "QXR3Ms5GCkv2"
      },
      "execution_count": 8,
      "outputs": []
    },
    {
      "cell_type": "code",
      "source": [
        "def max_value(node, depth):\n",
        "  value = -np.Inf\n",
        "  for successor in node.getChildren():\n",
        "    value = max(value, minimax(successor, depth + 1))\n",
        "  return value"
      ],
      "metadata": {
        "id": "caK1B_omCnp6"
      },
      "execution_count": 9,
      "outputs": []
    },
    {
      "cell_type": "code",
      "source": [
        "#Example 1\n",
        "A = Node()\n",
        "B = Node()\n",
        "C = Node()\n",
        "D = Node(2)\n",
        "E = Node(7)\n",
        "F = Node(1)\n",
        "G = Node(8)\n",
        "\n",
        "A.addChild(B)\n",
        "A.addChild(C)\n",
        "\n",
        "B.addChild(D)\n",
        "B.addChild(E)\n",
        "\n",
        "C.addChild(F)\n",
        "C.addChild(G)\n",
        "\n",
        "result = minimax(A)\n",
        "\n",
        "print(f\"Resultado minimax é: {result}\")"
      ],
      "metadata": {
        "colab": {
          "base_uri": "https://localhost:8080/"
        },
        "id": "gCgoMr2bA654",
        "outputId": "08fcd3bd-3c91-4362-85aa-f38033c783b1"
      },
      "execution_count": 15,
      "outputs": [
        {
          "output_type": "stream",
          "name": "stdout",
          "text": [
            "Resultado minimax é: 2\n"
          ]
        }
      ]
    },
    {
      "cell_type": "code",
      "source": [
        "#Example 2\n",
        "\n",
        "A = Node()"
      ],
      "metadata": {
        "id": "wxx2I0kyE8mu"
      },
      "execution_count": null,
      "outputs": []
    }
  ]
}